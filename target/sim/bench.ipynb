{
 "cells": [
  {
   "cell_type": "markdown",
   "id": "ec6a4851-436a-4278-9563-fe60b283a829",
   "metadata": {},
   "source": [
    "# Benchmark"
   ]
  },
  {
   "cell_type": "code",
   "execution_count": null,
   "id": "c018cdf4-4eac-434f-ab48-c86c9ee61541",
   "metadata": {},
   "outputs": [],
   "source": [
    "!python -m pip install pandas plotly pyyaml"
   ]
  },
  {
   "cell_type": "code",
   "execution_count": null,
   "id": "263c1118-51c5-4a82-9226-b01df47c40a7",
   "metadata": {},
   "outputs": [],
   "source": [
    "import pandas as pd, numpy as np\n",
    "import os, glob, re, datetime, time, shutil\n",
    "import pathlib\n",
    "from pathlib import Path\n",
    "import plotly as plotly, plotly.express as px\n",
    "import hjson\n",
    "from ruamel.yaml import YAML ## use instead of pyyaml\n",
    "yaml = YAML()\n",
    "# yaml.default_flow_style = False\n",
    "\n",
    "# Helper methods\n",
    "def slugify(text: str):\n",
    "    text = re.sub(r'[\\':{\\}]', '', text)\n",
    "    text = re.sub(r'\\s', '_', text)\n",
    "    text = re.sub(r',', '_', text)\n",
    "    return re.sub(r'\\W', '', text)\n",
    "    return text\n",
    "\n",
    "# yaml dump np types\n",
    "def represent_numpy_float64(self, value):\n",
    "    return self.represent_float(value)  # alternatively dump as a tagged float\n",
    "\n",
    "def represent_numpy_int64(self, value):\n",
    "    return self.represent_int(value)  # alternatively dump as a tagged int\n",
    "\n",
    "def represent_numpy_array(self, array, flow_style=None):\n",
    "    tag = '' # '!numpy.ndarray'\n",
    "    value = []\n",
    "    node = ruamel.yaml.nodes.SequenceNode(tag, value, flow_style=flow_style)\n",
    "    for elem in array:\n",
    "        node_elem = self.represent_data(elem)\n",
    "        value.append(node_elem)\n",
    "    if flow_style is None:\n",
    "        node.flow_style = True\n",
    "    return node\n",
    "\n",
    "yaml.Representer.add_representer(np.ndarray, represent_numpy_array)\n",
    "yaml.Representer.add_representer(np.float64, represent_numpy_float64)\n",
    "yaml.Representer.add_representer(np.int64, represent_numpy_int64)\n",
    "\n",
    "# Compatability with outside of jupyter\n",
    "import subprocess\n",
    "def run(cmd, env=None, dryrun=False):\n",
    "    if dryrun:\n",
    "        print(cmd)\n",
    "    else:\n",
    "        p = subprocess.Popen(cmd, env=env, shell=True)\n",
    "        retcode = p.wait()\n",
    "        if retcode != 0:\n",
    "            sys.exit(retcode)\n",
    "\n",
    "def extend_environment(env=None, **kwargs):\n",
    "    if not env:\n",
    "        env = os.environ.copy()\n",
    "    env.update(kwargs)\n",
    "    return env"
   ]
  },
  {
   "cell_type": "markdown",
   "id": "7b290ae6-8b45-4999-8f71-098178418066",
   "metadata": {},
   "source": [
    "## Workflow for a simulating single app"
   ]
  },
  {
   "cell_type": "code",
   "execution_count": null,
   "id": "aff8e0ac-8b91-4ac1-b9f1-5da08ff143e1",
   "metadata": {},
   "outputs": [],
   "source": [
    "# Compile hardware for Questa (vsim)\n",
    "!questa-2022.3 make bin/snitch_cluster.vsim"
   ]
  },
  {
   "cell_type": "code",
   "execution_count": null,
   "id": "16e62def-f903-455e-994a-6661c8b8895d",
   "metadata": {},
   "outputs": [],
   "source": [
    "# Compile software\n",
    "!make DEBUG=ON sw"
   ]
  },
  {
   "cell_type": "code",
   "execution_count": null,
   "id": "ef1ab542-924c-4c02-a507-6044c4b32169",
   "metadata": {},
   "outputs": [],
   "source": [
    "# Post process traces\n",
    "!make -j traces\n",
    "!make logs/perf.csv"
   ]
  },
  {
   "cell_type": "code",
   "execution_count": null,
   "id": "3caceab4-f9cd-474a-9ce2-8688d05317d8",
   "metadata": {},
   "outputs": [],
   "source": [
    "# Read profile data\n",
    "perf = pd.read_csv('logs/perf.csv', index_col=0)\n",
    "perf.filter(regex=(\"1_.\"))"
   ]
  },
  {
   "cell_type": "code",
   "execution_count": null,
   "id": "d20fe0e3-3f04-4a05-ab11-3d016dc75e79",
   "metadata": {},
   "outputs": [],
   "source": [
    "# Plot some results\n",
    "fig = px.scatter(perf, y=['1_total_ipc', '1_fpss_occupancy', '1_fpss_fpu_occupancy', '1_snitch_occupancy'])\n",
    "fig.update_layout(yaxis_range=[0,1])"
   ]
  },
  {
   "cell_type": "code",
   "execution_count": null,
   "id": "28811c2e-63ee-4143-ad82-4d97420b9b68",
   "metadata": {},
   "outputs": [],
   "source": [
    "!make CFG_OVERRIDE={cfg_file} rtl"
   ]
  },
  {
   "cell_type": "markdown",
   "id": "4d766185-bd6c-4c21-bbf8-79eded2247f1",
   "metadata": {},
   "source": [
    "# Benchmark Configuration"
   ]
  },
  {
   "cell_type": "code",
   "execution_count": null,
   "id": "96393e95-7390-4157-9314-af5155f46f22",
   "metadata": {},
   "outputs": [],
   "source": [
    "# Load top-level benchmark config, where all sweep information is stored\n",
    "bench_config_name = Path('bench/bench.yaml')\n",
    "with open(bench_config_name) as f:\n",
    "    bench_config = yaml.load(f)\n",
    "bench_config"
   ]
  },
  {
   "cell_type": "code",
   "execution_count": null,
   "id": "a537b79f-0d5d-48d3-8662-bd6db2ef05ab",
   "metadata": {},
   "outputs": [],
   "source": [
    "# flatten into a table\n",
    "hw = pd.json_normalize(bench_config['hw']).add_prefix('hw.').convert_dtypes()\n",
    "sw = pd.json_normalize(bench_config['sw']).add_prefix('sw.').convert_dtypes()\n",
    "configs = hw.merge(sw, how='cross')"
   ]
  },
  {
   "cell_type": "code",
   "execution_count": null,
   "id": "f68f9aea-c801-4c1b-a1ab-2c70fc782aa8",
   "metadata": {},
   "outputs": [],
   "source": [
    "# Evaluate expressions, any property ending in .eval is executed\n",
    "eval_cols = configs.filter(regex=(r'.*\\.eval')).columns.tolist()\n",
    "eval_cols_short = [x.removesuffix('.eval') for x in eval_cols]\n",
    "for i, col in enumerate(eval_cols):\n",
    "    short = eval_cols_short[i]\n",
    "    print(short)\n",
    "    configs[col] = configs[col].apply(lambda x: eval(x) if type(x) == str else x)            \n",
    "    \n",
    "configs.rename(dict(zip(eval_cols, eval_cols_short)), axis=1, inplace=True)"
   ]
  },
  {
   "cell_type": "code",
   "execution_count": null,
   "id": "cb40f6f7-4cc5-495d-925b-86c41d31df15",
   "metadata": {},
   "outputs": [],
   "source": [
    "# Explode sweep arrays to get all combinations to run\n",
    "# each row is now a single test\n",
    "for col in configs.columns.tolist():\n",
    "    if 'sweep.' in col:\n",
    "        configs = configs.explode(col)\n",
    "        # configs.rename({col: col.replace('sweep.', '')}, axis=1, inplace=True)\n",
    "configs.reset_index(inplace=True, drop=True)\n",
    "configs = configs.convert_dtypes()\n",
    "configs"
   ]
  },
  {
   "cell_type": "code",
   "execution_count": null,
   "id": "24765e2c-d71b-4af5-a6b0-d0ef2de1377a",
   "metadata": {},
   "outputs": [],
   "source": []
  },
  {
   "cell_type": "code",
   "execution_count": null,
   "id": "bac025c0-3270-4823-8204-418e31e22652",
   "metadata": {},
   "outputs": [],
   "source": [
    "def compile_hw(config: str):\n",
    "    print(f'Compiling hw: {config}')\n",
    "\n",
    "def compile_sw(config: str):\n",
    "    print(f'Compiling sw: ')\n",
    "\n",
    "def write_test_configs(test: dict, app_config: dict, destination: Path):\n",
    "    os.makedirs(destination, exist_ok=True)\n",
    "\n",
    "    # Store full config row\n",
    "    with open(str(destination / 'test-config.yaml'), 'w') as f:\n",
    "        yaml.dump(test, f)\n",
    "\n",
    "    # Store only sw config for datagen\n",
    "    with open(destination / 'config.yaml', 'w') as f:\n",
    "        yaml.dump(app_config, f)\n",
    "    \n",
    "def prepare_output(output_dir: Path, bench_config_name: Path):\n",
    "    os.makedirs(output_dir, exist_ok=True)\n",
    "    shutil.copy(bench_config_name, output_dir / bench_config_name.name)"
   ]
  },
  {
   "cell_type": "code",
   "execution_count": null,
   "id": "09539ef4-0b02-4253-a095-26611601820a",
   "metadata": {},
   "outputs": [],
   "source": [
    "# Setup output directory \n",
    "output_dir = Path('output')\n",
    "prepare_output(output_dir, bench_config_name)\n",
    "\n",
    "# Iterate over all tests, create the configs, compile, run and post process\n",
    "\n",
    "for hw_config, hw_config_df in configs.groupby(by='hw.config'):\n",
    "    \n",
    "    compile_hw(hw_config)\n",
    "    for app_config, app_config_df in hw_config_df.groupby(by='sw.app'):\n",
    "        \n",
    "        app_cols   = [col for col in app_config_df.columns if f'{app_config}'       in col]\n",
    "        sweep_cols = [col for col in config_app_df.columns if f'{app_config}.sweep' in col]\n",
    "        print(f'{app_config} sweeps: {sweep_cols}')\n",
    "        \n",
    "        for sweep, sweep_df in app_config_df.groupby(by=sweep_cols) if sweep_cols else {'test': app_config_df}:\n",
    "            for i, test in sweep_df.iterrows(): # (should be a df with one entry)\n",
    "                # Remove unused properties\n",
    "                test = test.dropna()\n",
    "                \n",
    "                # Get dicts for app/sweep config and remove prefixes\n",
    "                app_config_short = dict(zip([name.removeprefix(f'sw.{test[\"sw.app\"]}.').removeprefix('sweep.') \n",
    "                                             for name in test[app_cols]  .to_dict()], test[app_cols]  .to_dict().values()))\n",
    "                sweep_short      = dict(zip([name.removeprefix(f'sw.{test[\"sw.app\"]}.sweep.')                  \n",
    "                                             for name in test[sweep_cols].to_dict()], test[sweep_cols].to_dict().values()))\n",
    "\n",
    "                # Calculate output path for specific test\n",
    "                test_path = output_dir / hw_config / app_config / slugify(str(sweep))\n",
    "                test['path'] = str(test_path)\n",
    "\n",
    "                # Print the config and sw specific config to the corresponding directory\n",
    "                write_test_configs(test.to_dict(), app_config_short, test_path)\n",
    "                \n",
    "                # compile_sw(test, sw_config, output_dir)\n",
    "                # run_test()\n",
    "                # post_process()"
   ]
  },
  {
   "cell_type": "code",
   "execution_count": null,
   "id": "3213017b-a0ff-4e47-80f4-fa029cda2a4e",
   "metadata": {},
   "outputs": [],
   "source": [
    "configs.groupby(by='hw.config').get_group('full')"
   ]
  },
  {
   "cell_type": "code",
   "execution_count": null,
   "id": "3a08c9b6-82de-4e36-a4bc-90fca987b151",
   "metadata": {},
   "outputs": [],
   "source": []
  },
  {
   "cell_type": "code",
   "execution_count": null,
   "id": "813a82e1-5683-497a-8603-545cb55baada",
   "metadata": {},
   "outputs": [],
   "source": []
  },
  {
   "cell_type": "code",
   "execution_count": null,
   "id": "46335c5f-0802-4541-8ebe-5f3ef2de12e4",
   "metadata": {},
   "outputs": [],
   "source": []
  },
  {
   "cell_type": "markdown",
   "id": "db94fbb4-44d3-4ca1-a271-5be3d0f904f5",
   "metadata": {},
   "source": [
    "# Verify.py"
   ]
  },
  {
   "cell_type": "code",
   "execution_count": null,
   "id": "002be39d-43cf-4b35-b939-b3e66f7965fb",
   "metadata": {},
   "outputs": [],
   "source": [
    "args = {}\n",
    "args['sim_bin']     = \"bin/occamy_top.vsim\"\n",
    "args['snitch_bin']  = \"sw/host/apps/offload/build/offload-gemm.elf\"\n",
    "args['symbols_bin'] = \"sw/device/apps/blas/gemm/build/gemm.elf\"\n",
    "args['log']         = None\n",
    "args['hw_config']   = 'cfg/1Q4C.hjson' # 'cfg/1Q2C.hjson'"
   ]
  },
  {
   "cell_type": "code",
   "execution_count": null,
   "id": "62cd158c-0494-444b-bc86-de08c0681e6e",
   "metadata": {},
   "outputs": [],
   "source": [
    "import sys\n",
    "import os\n",
    "from pathlib import Path\n",
    "import numpy as np\n",
    "\n",
    "sys.path.append(os.path.join(os.path.abspath(''), \"../../working_dir/snitch_cluster/sw/blas/gemm\"))\n",
    "from data.datagen import golden_model\n",
    "\n",
    "sys.path.append(os.path.join(os.path.abspath(''), \"../../working_dir/snitch_cluster/util/sim/\"))\n",
    "import verification  # noqa: E402\n",
    "from elf import Elf  # noqa: E402\n",
    "from data_utils import bytes_to_doubles, bytes_to_uint32s  # noqa: E402"
   ]
  },
  {
   "cell_type": "code",
   "execution_count": null,
   "id": "347b27bc-bba7-41d5-9e8a-bb7e57a44d88",
   "metadata": {},
   "outputs": [],
   "source": [
    "!make CFG_OVERRIDE={args['hw_config']} DEBUG=ON sw"
   ]
  },
  {
   "cell_type": "code",
   "execution_count": null,
   "id": "91c3a858-8e0c-448b-8ecf-fa8583bb1317",
   "metadata": {
    "scrolled": true
   },
   "outputs": [],
   "source": [
    "%%time\n",
    "# Run simulation and get outputs\n",
    "raw_results = verification.simulate(sim_bin=args['sim_bin'],\n",
    "                                    snitch_bin=args['snitch_bin'],\n",
    "                                    symbols_bin=args['symbols_bin'],\n",
    "                                    log=args['log'],\n",
    "                                    output_uids=['c'])"
   ]
  },
  {
   "cell_type": "code",
   "execution_count": null,
   "id": "ab065250-6faf-41ff-9a69-1633e6abc948",
   "metadata": {},
   "outputs": [],
   "source": [
    "# Extract input operands from ELF file\n",
    "if args['symbols_bin']:\n",
    "    elf = Elf(args['symbols_bin'])\n",
    "else:\n",
    "    elf = Elf(args['snitch_bin'])\n",
    "alpha = 1\n",
    "beta = bytes_to_uint32s(elf.get_symbol_contents('BETA'))[0]\n",
    "m = bytes_to_uint32s(elf.get_symbol_contents('M'))[0]\n",
    "n = bytes_to_uint32s(elf.get_symbol_contents('N'))[0]\n",
    "k = bytes_to_uint32s(elf.get_symbol_contents('K'))[0]\n",
    "ta = bytes_to_uint32s(elf.get_symbol_contents('TA'))[0]\n",
    "tb = bytes_to_uint32s(elf.get_symbol_contents('TB'))[0]\n",
    "a = np.array(bytes_to_doubles(elf.get_symbol_contents('a')))\n",
    "b = np.array(bytes_to_doubles(elf.get_symbol_contents('b')))\n",
    "c = np.array(bytes_to_doubles(elf.get_symbol_contents('c'))).reshape((m, n))\n",
    "result = np.array(bytes_to_doubles(elf.get_symbol_contents('result'))).reshape((m,n))\n",
    "\n",
    "# Extract results in output_uids\n",
    "c_actual = np.array(bytes_to_doubles(raw_results['c'])).reshape((m,n))\n",
    "\n",
    "if ta:\n",
    "    a = a.reshape((k, m))\n",
    "    a = a.transpose()\n",
    "else:\n",
    "    a = a.reshape((m, k))\n",
    "    \n",
    "if tb:\n",
    "    b = b.reshape((n, k))\n",
    "    b = b.transpose()\n",
    "else:\n",
    "    b = b.reshape((k, n))\n",
    "\n",
    "# Verify results\n",
    "c_golden = golden_model(alpha, a, b, beta, c)\n",
    "\n",
    "ERR_THRESHOLD = 0.001\n",
    "absolute_err = np.absolute(c_golden - c_actual)\n",
    "errors = np.count_nonzero(absolute_err > ERR_THRESHOLD)\n",
    "\n",
    "if (errors):\n",
    "    print(f'Failed with {errors} errors.')\n",
    "    # verification.dump_results_to_csv([c_golden, c_actual, absolute_err],\n",
    "    #                                  Path.cwd() / 'gemm_results.csv')\n",
    "else:\n",
    "    print(f'SUCCESS. Actual C matches result for dim {m} x {n}.')"
   ]
  },
  {
   "cell_type": "code",
   "execution_count": null,
   "id": "d181eb78-2dc7-4f0a-a0d4-6f67e70da99d",
   "metadata": {
    "scrolled": true
   },
   "outputs": [],
   "source": [
    "((absolute_err > ERR_THRESHOLD)*1)"
   ]
  },
  {
   "cell_type": "code",
   "execution_count": null,
   "id": "3a5a2483-3454-4d5a-9a40-0a0e5984f932",
   "metadata": {},
   "outputs": [],
   "source": [
    "c_actual"
   ]
  },
  {
   "cell_type": "code",
   "execution_count": null,
   "id": "3d9e8972-1c93-4715-8996-89b04bdb664d",
   "metadata": {},
   "outputs": [],
   "source": [
    "result"
   ]
  },
  {
   "cell_type": "code",
   "execution_count": null,
   "id": "bfb3f426-7610-4901-9af6-d0487d173046",
   "metadata": {
    "scrolled": true
   },
   "outputs": [],
   "source": [
    "!make -j annotate BINARY=sw/device/apps/blas/gemm/build/gemm.elf"
   ]
  },
  {
   "cell_type": "markdown",
   "id": "925ac4a8-de21-4203-b52a-185aaa3c212c",
   "metadata": {},
   "source": [
    "# 2D Pipeline Indexing\n",
    "Index calculations for determining the source cluster for C2C dma."
   ]
  },
  {
   "cell_type": "code",
   "execution_count": null,
   "id": "c70c0672-e284-4239-bfaa-ff9d33d046c5",
   "metadata": {},
   "outputs": [],
   "source": [
    "# Works for PI == PJ\n",
    "PI = 3\n",
    "PJ = 3\n",
    "P  = PI * PJ\n",
    "p = np.linspace(0, P -1, num=P, dtype=int).reshape((PI, PJ))\n",
    "p"
   ]
  },
  {
   "cell_type": "code",
   "execution_count": null,
   "id": "23383d54-a8f8-4052-8485-8e4685f78178",
   "metadata": {},
   "outputs": [],
   "source": [
    "pi = (p / PJ).astype(int)\n",
    "pi"
   ]
  },
  {
   "cell_type": "code",
   "execution_count": null,
   "id": "b13d577c-38dc-4822-b8ec-9e3456810ebd",
   "metadata": {},
   "outputs": [],
   "source": [
    "pj = (p % PJ).astype(int)\n",
    "pj"
   ]
  },
  {
   "cell_type": "code",
   "execution_count": null,
   "id": "dd6da9ba-0a27-43f8-89b0-78ab50e247c1",
   "metadata": {},
   "outputs": [],
   "source": [
    "pk = (2*PJ - pi - pj -1) % PJ  # Or if k flipped: (PJ -pi + pj) % PJ\n",
    "pk"
   ]
  },
  {
   "cell_type": "code",
   "execution_count": null,
   "id": "fa8d23d0-bcd7-457c-ad8d-9bfb48fd1a5a",
   "metadata": {},
   "outputs": [],
   "source": [
    "srca = pi * PJ + ((2*PJ - pi - pk) % PJ)\n",
    "srca"
   ]
  },
  {
   "cell_type": "code",
   "execution_count": null,
   "id": "1783c7cb-f71f-4fbc-982e-a9ca6d5b839e",
   "metadata": {},
   "outputs": [],
   "source": [
    "srcb = pj + PJ * ((2*PJ - pj - pk) % PJ)\n",
    "srcb"
   ]
  },
  {
   "cell_type": "code",
   "execution_count": null,
   "id": "9b2c7dfb-718a-49ae-a737-bf135b24169b",
   "metadata": {},
   "outputs": [],
   "source": [
    "sa = pi * PJ + ((PJ - pi - pj) % PJ)\n",
    "sa"
   ]
  },
  {
   "cell_type": "code",
   "execution_count": null,
   "id": "777ceb79-d417-4995-a5d3-f0fd2af26573",
   "metadata": {},
   "outputs": [],
   "source": [
    "sb = pi + PJ *((PJ - pi + pj) % PJ)\n",
    "sb"
   ]
  },
  {
   "cell_type": "code",
   "execution_count": null,
   "id": "be14971f-8d22-43d6-b154-9d05af168f40",
   "metadata": {},
   "outputs": [],
   "source": [
    "PJ * ((PJ - pi + pj) % PJ)"
   ]
  },
  {
   "cell_type": "code",
   "execution_count": null,
   "id": "50c615ee-810f-40c7-a1ff-830b380ef1a7",
   "metadata": {},
   "outputs": [],
   "source": [
    "dram = ((p+1) % PJ == 0)\n",
    "dram"
   ]
  },
  {
   "cell_type": "code",
   "execution_count": null,
   "id": "e8a89535-a92a-4f41-893f-a51f29244735",
   "metadata": {},
   "outputs": [],
   "source": [
    "sa = sa * (1-dram) + dram * -1\n",
    "sa"
   ]
  },
  {
   "cell_type": "code",
   "execution_count": null,
   "id": "7895d159-de0e-4d47-9e38-c03bdd42d2d4",
   "metadata": {},
   "outputs": [],
   "source": [
    "sb = sb * (1-dram) + dram * -1\n",
    "sb"
   ]
  },
  {
   "cell_type": "code",
   "execution_count": null,
   "id": "dd23dac9-1184-47b6-93e8-5ce0e453f365",
   "metadata": {},
   "outputs": [],
   "source": [
    "pipeStep = (PJ - p - 1) % PJ\n",
    "pipeStep"
   ]
  },
  {
   "cell_type": "code",
   "execution_count": null,
   "id": "8c098e3b-84b5-4f70-aa81-bf2c1df02f08",
   "metadata": {},
   "outputs": [],
   "source": []
  },
  {
   "cell_type": "code",
   "execution_count": null,
   "id": "22443e7d-45b1-41fd-9f7c-88b85f3949fe",
   "metadata": {},
   "outputs": [],
   "source": []
  }
 ],
 "metadata": {
  "kernelspec": {
   "display_name": "Python 3 (ipykernel)",
   "language": "python",
   "name": "python3"
  },
  "language_info": {
   "codemirror_mode": {
    "name": "ipython",
    "version": 3
   },
   "file_extension": ".py",
   "mimetype": "text/x-python",
   "name": "python",
   "nbconvert_exporter": "python",
   "pygments_lexer": "ipython3",
   "version": "3.9.12"
  }
 },
 "nbformat": 4,
 "nbformat_minor": 5
}
