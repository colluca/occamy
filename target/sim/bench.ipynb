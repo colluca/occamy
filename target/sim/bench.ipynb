{
 "cells": [
  {
   "cell_type": "markdown",
   "id": "ec6a4851-436a-4278-9563-fe60b283a829",
   "metadata": {},
   "source": [
    "# Benchmark"
   ]
  },
  {
   "cell_type": "code",
   "execution_count": null,
   "id": "c018cdf4-4eac-434f-ab48-c86c9ee61541",
   "metadata": {},
   "outputs": [],
   "source": [
    "!python -m pip install pandas plotly pyyaml"
   ]
  },
  {
   "cell_type": "code",
   "execution_count": null,
   "id": "263c1118-51c5-4a82-9226-b01df47c40a7",
   "metadata": {},
   "outputs": [],
   "source": [
    "import pandas as pd, numpy as np\n",
    "import os, glob, datetime, time\n",
    "import plotly as plotly\n",
    "import plotly.express as px\n",
    "import hjson\n",
    "import yaml"
   ]
  },
  {
   "cell_type": "code",
   "execution_count": null,
   "id": "aff8e0ac-8b91-4ac1-b9f1-5da08ff143e1",
   "metadata": {},
   "outputs": [],
   "source": [
    "# Compile hardware for Questa (vsim)\n",
    "!questa-2022.3 make bin/snitch_cluster.vsim"
   ]
  },
  {
   "cell_type": "code",
   "execution_count": null,
   "id": "16e62def-f903-455e-994a-6661c8b8895d",
   "metadata": {},
   "outputs": [],
   "source": [
    "# Compile software\n",
    "!make DEBUG=ON sw"
   ]
  },
  {
   "cell_type": "code",
   "execution_count": null,
   "id": "ef1ab542-924c-4c02-a507-6044c4b32169",
   "metadata": {},
   "outputs": [],
   "source": [
    "# Post process traces\n",
    "!make -j traces\n",
    "!make logs/perf.csv"
   ]
  },
  {
   "cell_type": "code",
   "execution_count": null,
   "id": "3caceab4-f9cd-474a-9ce2-8688d05317d8",
   "metadata": {},
   "outputs": [],
   "source": [
    "# Read profile data\n",
    "perf = pd.read_csv('logs/perf.csv', index_col=0)\n",
    "perf.filter(regex=(\"1_.\"))"
   ]
  },
  {
   "cell_type": "code",
   "execution_count": null,
   "id": "d20fe0e3-3f04-4a05-ab11-3d016dc75e79",
   "metadata": {},
   "outputs": [],
   "source": [
    "fig = px.scatter(perf, y=['1_total_ipc', '1_fpss_occupancy', '1_fpss_fpu_occupancy', '1_snitch_occupancy'])\n",
    "fig.update_layout(yaxis_range=[0,1])"
   ]
  },
  {
   "cell_type": "code",
   "execution_count": null,
   "id": "71d208c2-0ac9-47c4-ac71-6def321fc682",
   "metadata": {},
   "outputs": [],
   "source": [
    "def run(cmd, env=None, dryrun=False):\n",
    "    if dryrun:\n",
    "        print(cmd)\n",
    "    else:\n",
    "        p = subprocess.Popen(cmd, env=env, shell=True)\n",
    "        retcode = p.wait()\n",
    "        if retcode != 0:\n",
    "            sys.exit(retcode)"
   ]
  },
  {
   "cell_type": "code",
   "execution_count": null,
   "id": "28811c2e-63ee-4143-ad82-4d97420b9b68",
   "metadata": {},
   "outputs": [],
   "source": [
    "!f'make CFG_OVERRIDE={cfg_file} rtl'"
   ]
  },
  {
   "cell_type": "markdown",
   "id": "4d766185-bd6c-4c21-bbf8-79eded2247f1",
   "metadata": {},
   "source": [
    "# Benchmark Configuration"
   ]
  },
  {
   "cell_type": "code",
   "execution_count": null,
   "id": "96393e95-7390-4157-9314-af5155f46f22",
   "metadata": {},
   "outputs": [],
   "source": [
    "# Load top-level benchmark config\n",
    "bench_config_name = \"bench/bench.yaml\"\n",
    "with open(bench_config_name) as f:\n",
    "    bench_config = yaml.load(f, Loader=yaml.Loader)\n",
    "bench_config"
   ]
  },
  {
   "cell_type": "code",
   "execution_count": null,
   "id": "f68f9aea-c801-4c1b-a1ab-2c70fc782aa8",
   "metadata": {},
   "outputs": [],
   "source": [
    "# flatten into a table\n",
    "hw = pd.json_normalize(bench_config['hw']).add_prefix('hw.')\n",
    "sw = pd.json_normalize(bench_config['sw']).add_prefix('sw.')\n",
    "\n",
    "configs = hw.merge(sw, how='cross')\n",
    "\n",
    "# Evaluate expressions\n",
    "eval_cols = configs.filter(regex=(\".*\\.eval\")).columns.tolist()\n",
    "eval_cols_short = [x.removesuffix('.eval') for x in eval_cols]\n",
    "for i, col in enumerate(eval_cols):\n",
    "    short = eval_cols_short[i]\n",
    "    print(short)\n",
    "    configs[col] = configs[col].apply(lambda x: eval(x) if type(x) == str else x)            \n",
    "        \n",
    "configs = configs.rename(dict(zip(eval_cols, eval_cols_short)), axis=1)\n",
    "\n",
    "# Explode arrays\n",
    "for col in configs.columns.tolist():\n",
    "    if 'sweep' in col:\n",
    "        configs = configs.explode(col)\n",
    "configs.reset_index(inplace=True, drop=True)\n",
    "configs"
   ]
  },
  {
   "cell_type": "code",
   "execution_count": null,
   "id": "bac025c0-3270-4823-8204-418e31e22652",
   "metadata": {},
   "outputs": [],
   "source": [
    "def compile_hw(config: str):\n",
    "    print(f'Compiling hw with config: {config}')\n",
    "\n",
    "def compile_sw(config: str, overrides):\n",
    "    print(f'Compiling sw with config: {config} with overrides: \\n{overrides}')"
   ]
  },
  {
   "cell_type": "code",
   "execution_count": null,
   "id": "09539ef4-0b02-4253-a095-26611601820a",
   "metadata": {},
   "outputs": [],
   "source": [
    "for config_hw_name, config_hw in configs.groupby(by='hw.config'):\n",
    "    \n",
    "    compile_hw(config_hw_name)\n",
    "    for config_sw_name, config_sw in config_hw.groupby(by='sw.name'):\n",
    "        \n",
    "        override_cols = configs.filter(regex=(f'sw\\.{config_sw_name}.*')).columns.tolist()\n",
    "        print(f'app: {config_sw_name}, {override_cols}')\n",
    "        \n",
    "        for a, b in config_hw.groupby(by=override_cols) if override_cols else []:\n",
    "            compile_sw(a, b)\n",
    "            # run_test()\n",
    "            # post_process()"
   ]
  },
  {
   "cell_type": "code",
   "execution_count": null,
   "id": "3213017b-a0ff-4e47-80f4-fa029cda2a4e",
   "metadata": {},
   "outputs": [],
   "source": []
  },
  {
   "cell_type": "code",
   "execution_count": null,
   "id": "feea31c1-8ef1-414e-8419-9b9239dce30d",
   "metadata": {},
   "outputs": [],
   "source": []
  },
  {
   "cell_type": "code",
   "execution_count": null,
   "id": "4d2a4d13-cc6c-47c3-9187-9230eac524df",
   "metadata": {},
   "outputs": [],
   "source": []
  }
 ],
 "metadata": {
  "kernelspec": {
   "display_name": "Python 3 (ipykernel)",
   "language": "python",
   "name": "python3"
  },
  "language_info": {
   "codemirror_mode": {
    "name": "ipython",
    "version": 3
   },
   "file_extension": ".py",
   "mimetype": "text/x-python",
   "name": "python",
   "nbconvert_exporter": "python",
   "pygments_lexer": "ipython3",
   "version": "3.9.12"
  }
 },
 "nbformat": 4,
 "nbformat_minor": 5
}
